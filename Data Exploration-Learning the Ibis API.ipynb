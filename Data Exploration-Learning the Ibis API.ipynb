{
 "cells": [
  {
   "cell_type": "code",
   "execution_count": 3,
   "metadata": {
    "collapsed": false
   },
   "outputs": [],
   "source": [
    "import ibis\n",
    "import pandas as pd"
   ]
  },
  {
   "cell_type": "code",
   "execution_count": 10,
   "metadata": {
    "collapsed": true
   },
   "outputs": [],
   "source": [
    "ibis.options.sql.default_limit = None\n",
    "ibis.options.interactive = True\n",
    "\n",
    "hdfs_conn = ibis.hdfs_connect(host='bottou03.sjc.cloudera.com')\n",
    "\n",
    "ibis_conn = ibis.impala.connect(host='bottou01.sjc.cloudera.com',\n",
    "                                    port=21050,\n",
    "                                    hdfs_client=hdfs_conn)"
   ]
  },
  {
   "cell_type": "code",
   "execution_count": 5,
   "metadata": {
    "collapsed": false
   },
   "outputs": [],
   "source": [
    "pageviews_tbl = ibis_conn.table('wiki_pageviews', database='u_juliet')"
   ]
  },
  {
   "cell_type": "markdown",
   "metadata": {},
   "source": [
    "What is in a project name? What does this data look like?"
   ]
  },
  {
   "cell_type": "code",
   "execution_count": 11,
   "metadata": {
    "collapsed": false
   },
   "outputs": [
    {
     "data": {
      "text/plain": [
       "0          iu.m.d\n",
       "1       he.zero.q\n",
       "2          br.m.q\n",
       "3          co.m.d\n",
       "4          zero.f\n",
       "5          ru.m.b\n",
       "6             ltg\n",
       "7          lv.m.b\n",
       "8              am\n",
       "9          vi.m.d\n",
       "10           ay.d\n",
       "11           tk.d\n",
       "12           cr.q\n",
       "13           is.d\n",
       "14      iu.zero.d\n",
       "15           uk.s\n",
       "16        dv.zero\n",
       "17        en.zero\n",
       "18      tl.zero.d\n",
       "19           kl.d\n",
       "20           ln.b\n",
       "21           wa.b\n",
       "22           da.q\n",
       "23         sv.m.n\n",
       "24           la.s\n",
       "25           sk.s\n",
       "26             tt\n",
       "27           ko.q\n",
       "28             es\n",
       "29             kw\n",
       "          ...    \n",
       "2288           an\n",
       "2289           pi\n",
       "2290       fo.m.s\n",
       "2291      ha.zero\n",
       "2292       uz.m.b\n",
       "2293    kn.zero.s\n",
       "2294    es.zero.v\n",
       "2295        sco.m\n",
       "2296         ks.m\n",
       "2297       pt.m.q\n",
       "2298         cy.m\n",
       "2299       az.m.b\n",
       "2300       Amanhã\n",
       "2301          21º\n",
       "2302          pnb\n",
       "2303        wg-en\n",
       "2304         pt.b\n",
       "2305           be\n",
       "2306    vi.zero.q\n",
       "2307       qu.m.q\n",
       "2308         wo.q\n",
       "2309         ar.d\n",
       "2310       uk.m.b\n",
       "2311    wa.zero.d\n",
       "2312         qu.q\n",
       "2313     meta.m.m\n",
       "2314         cy.q\n",
       "2315         rw.d\n",
       "2316         bi.d\n",
       "2317      ang.m.b\n",
       "Name: project_name, dtype: object"
      ]
     },
     "execution_count": 11,
     "metadata": {},
     "output_type": "execute_result"
    }
   ],
   "source": [
    "project_names = pageviews_tbl.project_name.distinct()\n",
    "project_names"
   ]
  },
  {
   "cell_type": "markdown",
   "metadata": {},
   "source": [
    "Maybe we can understand this by finding the projects with the most pages. Let's group by porject name and then count the size of the groups."
   ]
  },
  {
   "cell_type": "code",
   "execution_count": 17,
   "metadata": {
    "collapsed": false
   },
   "outputs": [
    {
     "data": {
      "text/plain": [
       "                project_name     count\n",
       "0                         en  57774129\n",
       "1                       en.m  38093008\n",
       "2                         fr  11234880\n",
       "3                         de  10624957\n",
       "4                       ja.m   9061891\n",
       "5                         ru   8835232\n",
       "6                         ja   8238480\n",
       "7                         es   7545728\n",
       "8                       de.m   6931540\n",
       "9                       es.m   6561233\n",
       "10                      fr.m   5902997\n",
       "11                        it   5161429\n",
       "12                      it.m   4737148\n",
       "13                      ru.m   4541935\n",
       "14                 commons.m   3981603\n",
       "15                        pl   3877222\n",
       "16                        zh   3618730\n",
       "17                        pt   3519056\n",
       "18                   en.zero   3400072\n",
       "19                      pt.m   2710694\n",
       "20                      zh.m   2385815\n",
       "21                        nl   2043556\n",
       "22                      pl.m   1846846\n",
       "23                      nl.m   1696595\n",
       "24                        sv   1679543\n",
       "25                      ar.m   1658101\n",
       "26                        tr   1589569\n",
       "27                      tr.m   1459167\n",
       "28                      id.m   1375605\n",
       "29                      sv.m   1362119\n",
       "...                      ...       ...\n",
       "2288                   Fire_         1\n",
       "2289               ro.zero.b         1\n",
       "2290                  my.m.b         1\n",
       "2291  Fire_(_contributors_)_         1\n",
       "2292               gu.zero.d         1\n",
       "2293               ky.zero.d         1\n",
       "2294               kw.zero.d         1\n",
       "2295                   TEMPO         1\n",
       "2296               el.zero.s         1\n",
       "2297                  zu.m.b         1\n",
       "2298                  ay.m.b         1\n",
       "2299    2000000\\t25455578\\t0         1\n",
       "2300    2000000\\t57055541\\t0         1\n",
       "2301               aa.zero.d         1\n",
       "2302                     21º         1\n",
       "2303                    hz.m         1\n",
       "2304       zh-min-nan.zero.b         1\n",
       "2305                  Amanhã         1\n",
       "2306                     23º         1\n",
       "2307        30-12-2015_09:54         1\n",
       "2308               el.zero.b         1\n",
       "2309              als.zero.d         1\n",
       "2310           0\\t2437984\\t0         1\n",
       "2311    2000000\\t32143427\\t0         1\n",
       "2312               da.zero.q         1\n",
       "2313               sl.zero.d         1\n",
       "2314               ia.zero.d         1\n",
       "2315                  ug.m.q         1\n",
       "2316    2000000\\t20710057\\t0         1\n",
       "2317               sv.zero.v         1\n",
       "\n",
       "[2318 rows x 2 columns]"
      ]
     },
     "execution_count": 17,
     "metadata": {},
     "output_type": "execute_result"
    }
   ],
   "source": [
    "project_page_counts = pageviews_tbl.group_by(pageviews_tbl.project_name).size().sort_by(('count', False))\n",
    "project_page_counts"
   ]
  },
  {
   "cell_type": "markdown",
   "metadata": {},
   "source": [
    "To find something interesting, it'll help to understand the language. "
   ]
  },
  {
   "cell_type": "code",
   "execution_count": 8,
   "metadata": {
    "collapsed": false
   },
   "outputs": [
    {
     "data": {
      "text/plain": [
       "['en.zero',\n",
       " 'en.m.q',\n",
       " 'en.m.v',\n",
       " 'en.n',\n",
       " 'en.zero.v',\n",
       " 'en.zero.b',\n",
       " 'ten.m',\n",
       " 'en.m.s',\n",
       " 'en.zero.n',\n",
       " 'en.m.n',\n",
       " 'en.zero.d',\n",
       " 'en.m.d',\n",
       " 'en.zero.s',\n",
       " 'en.m.b',\n",
       " 'en.zero.voy',\n",
       " 'en.voy',\n",
       " 'en.zero.q',\n",
       " 'en.s',\n",
       " 'en.d',\n",
       " 'en.m.voy',\n",
       " 'ten',\n",
       " 'en.m',\n",
       " 'en.q',\n",
       " 'en.v',\n",
       " 'en',\n",
       " 'en.b',\n",
       " 'wg-en']"
      ]
     },
     "execution_count": 8,
     "metadata": {},
     "output_type": "execute_result"
    }
   ],
   "source": [
    "[name for name in project_names if 'en' in name]"
   ]
  },
  {
   "cell_type": "markdown",
   "metadata": {},
   "source": [
    "The part of the project name after the '.' specifies a special type of wiki, let's just look at the standard wiki pages we know and love."
   ]
  },
  {
   "cell_type": "code",
   "execution_count": 20,
   "metadata": {
    "collapsed": false
   },
   "outputs": [
    {
     "data": {
      "text/plain": [
       "  project_name                     page_name  monthly_total  hourly_total day  \\\n",
       "0           en                             !              1             0  31   \n",
       "1           en                            !!              1             0  31   \n",
       "2           en                           !!!              3             0  31   \n",
       "3           en                !!!Fuck_You!!!              2             0  31   \n",
       "4           en  !!!Fuck_You!!!_and_Then_Some              1             0  31   \n",
       "5           en                   !!!_(album)              1             0  31   \n",
       "6           en                        !BANG!              1             0  31   \n",
       "7           en                  !Kung_people              1             0  31   \n",
       "8           en                    !Oka_Tokat              2             0  31   \n",
       "9           en                             \"              1             0  31   \n",
       "\n",
       "  hour month  year  \n",
       "0   03    12  2015  \n",
       "1   03    12  2015  \n",
       "2   03    12  2015  \n",
       "3   03    12  2015  \n",
       "4   03    12  2015  \n",
       "5   03    12  2015  \n",
       "6   03    12  2015  \n",
       "7   03    12  2015  \n",
       "8   03    12  2015  \n",
       "9   03    12  2015  "
      ]
     },
     "execution_count": 20,
     "metadata": {},
     "output_type": "execute_result"
    }
   ],
   "source": [
    "pageviews_tbl[pageviews_tbl.project_name == 'en'].limit(10)"
   ]
  },
  {
   "cell_type": "code",
   "execution_count": 21,
   "metadata": {
    "collapsed": true
   },
   "outputs": [],
   "source": [
    "en_page_views = pageviews_tbl[pageviews_tbl.project_name == 'en'].projection(['page_name',\n",
    "                                                                              'monthly_total',\n",
    "                                                                             'hourly_total',\n",
    "                                                                             'day',\n",
    "                                                                             'hour',\n",
    "                                                                             'month',\n",
    "                                                                             'year'])"
   ]
  },
  {
   "cell_type": "code",
   "execution_count": null,
   "metadata": {
    "collapsed": true
   },
   "outputs": [],
   "source": [
    "en_page_views.limit(10)"
   ]
  },
  {
   "cell_type": "code",
   "execution_count": null,
   "metadata": {
    "collapsed": true
   },
   "outputs": [],
   "source": []
  }
 ],
 "metadata": {
  "kernelspec": {
   "display_name": "Python 2",
   "language": "python",
   "name": "python2"
  },
  "language_info": {
   "codemirror_mode": {
    "name": "ipython",
    "version": 2
   },
   "file_extension": ".py",
   "mimetype": "text/x-python",
   "name": "python",
   "nbconvert_exporter": "python",
   "pygments_lexer": "ipython2",
   "version": "2.7.5"
  }
 },
 "nbformat": 4,
 "nbformat_minor": 1
}
