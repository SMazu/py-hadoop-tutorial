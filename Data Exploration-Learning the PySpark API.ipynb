{
 "cells": [
  {
   "cell_type": "code",
   "execution_count": null,
   "metadata": {
    "collapsed": true
   },
   "outputs": [],
   "source": [
    "from pyspark.sql import SparkSession"
   ]
  },
  {
   "cell_type": "markdown",
   "metadata": {},
   "source": [
    "Manually managing spark context and sqlcontexts has been replaced the Spark sessions, which come with convenient builders. We may want to modify the following config variables:\n",
    "\n",
    "    spark.sql.hive.metastore.version\n",
    "    spark.sql.hive.metastore.jars"
   ]
  },
  {
   "cell_type": "code",
   "execution_count": null,
   "metadata": {
    "collapsed": true
   },
   "outputs": [],
   "source": [
    "spark = SparkSession\\\n",
    "    .builder\\\n",
    "    .appName(\"PythonSQL\")\\\n",
    "    .config(\"spark.some.config.option\", \"some-value\")\\\n",
    "    .enableHiveSupport()\\\n",
    "    .getOrCreate()"
   ]
  },
  {
   "cell_type": "code",
   "execution_count": null,
   "metadata": {
    "collapsed": true
   },
   "outputs": [],
   "source": [
    "pageviews_tbl = sqlContext.sql(\"SELECT * FROM u_juliet.wiki_pageviews\").cache()\n",
    "project_names = pageviews_tbl.select($\"project_name\").distinct().collect()\n",
    "project_names"
   ]
  },
  {
   "cell_type": "code",
   "execution_count": null,
   "metadata": {
    "collapsed": true
   },
   "outputs": [],
   "source": [
    "project_page_counts = wikiPageviews.select($\"project_name\").\n",
    "  groupBy(\"project_name\").count().\n",
    "  orderBy($\"count\".desc).collect()"
   ]
  },
  {
   "cell_type": "code",
   "execution_count": null,
   "metadata": {
    "collapsed": false
   },
   "outputs": [],
   "source": [
    "project_names.filter(_.contains(\"en\"))"
   ]
  },
  {
   "cell_type": "code",
   "execution_count": null,
   "metadata": {
    "collapsed": false
   },
   "outputs": [],
   "source": [
    "pageviews_tbl.filter($\"project_name\" === \"en\").show(10)"
   ]
  },
  {
   "cell_type": "code",
   "execution_count": null,
   "metadata": {
    "collapsed": false
   },
   "outputs": [],
   "source": [
    "en_pageviews = pageviews_tbl.\n",
    "  filter($\"project_name\" === \"en\").\n",
    "  drop(\"project_name\")\n",
    "en_pageviews.show(10)"
   ]
  },
  {
   "cell_type": "code",
   "execution_count": null,
   "metadata": {
    "collapsed": false
   },
   "outputs": [],
   "source": [
    "top_10_pg_views_hourly = en_pageviews.orderBy($\"n_views\".desc)\n",
    "top_10_pg_views_hourly.show(10)"
   ]
  },
  {
   "cell_type": "code",
   "execution_count": null,
   "metadata": {
    "collapsed": false
   },
   "outputs": [],
   "source": [
    "null_pg_views = en_pageviews.filter($\"n_views\".isNull)\n",
    "null_pg_views.show()"
   ]
  },
  {
   "cell_type": "code",
   "execution_count": null,
   "metadata": {
    "collapsed": false
   },
   "outputs": [],
   "source": [
    "nn_pg_views = en_pageviews.filter($\"n_views\".isNotNull)\n",
    "nn_pg_views.orderBy($\"n_views\".desc).show(10)"
   ]
  },
  {
   "cell_type": "code",
   "execution_count": null,
   "metadata": {
    "collapsed": false
   },
   "outputs": [],
   "source": [
    "champagne_df = nn_pg_views.filter(lower($\"page_name\") === \"champagne\")\n",
    "champagne_df.orderBy(\"day\", \"hour\").show(10)"
   ]
  },
  {
   "cell_type": "code",
   "execution_count": null,
   "metadata": {
    "collapsed": false
   },
   "outputs": [],
   "source": [
    "// champagne_df['time'] isn't that hard but skipped it for now as the\n",
    "result woudl be\n",
    "// Scala-specific anyway\n"
   ]
  },
  {
   "cell_type": "code",
   "execution_count": null,
   "metadata": {
    "collapsed": false
   },
   "outputs": [],
   "source": [
    "w_daily_views = nn_pg_views.\n",
    "  groupBy(\"page_name\", \"month\", \"day\").sum(\"n_views\").\n",
    "  withColumnRenamed(\"sum(n_views)\", \"daily_views\").\n",
    "  orderBy($\"daily_views\".desc)\n",
    "w_daily_views.show(10)\n"
   ]
  },
  {
   "cell_type": "code",
   "execution_count": null,
   "metadata": {
    "collapsed": false
   },
   "outputs": [],
   "source": [
    "tot_view = nn_pg_views.\n",
    "  groupBy(\"page_name\").sum(\"n_views\").\n",
    "  withColumnRenamed(\"sum(n_views)\", \"all_views\").\n",
    "  orderBy($\"all_views\".desc)\n",
    "tot_view.show(30)"
   ]
  },
  {
   "cell_type": "code",
   "execution_count": null,
   "metadata": {
    "collapsed": true
   },
   "outputs": [],
   "source": []
  }
 ],
 "metadata": {
  "kernelspec": {
   "display_name": "Python 2",
   "language": "python",
   "name": "python2"
  },
  "language_info": {
   "codemirror_mode": {
    "name": "ipython",
    "version": 2
   },
   "file_extension": ".py",
   "mimetype": "text/x-python",
   "name": "python",
   "nbconvert_exporter": "python",
   "pygments_lexer": "ipython2",
   "version": "2.7.5"
  }
 },
 "nbformat": 4,
 "nbformat_minor": 1
}
