{
 "cells": [
  {
   "cell_type": "code",
   "execution_count": null,
   "metadata": {
    "collapsed": true
   },
   "outputs": [],
   "source": [
    "import numpy as np\n",
    "import pandas as pd\n"
   ]
  },
  {
   "cell_type": "code",
   "execution_count": null,
   "metadata": {
    "collapsed": true
   },
   "outputs": [],
   "source": [
    "def flag_outliers(series, iqr_multiplier=1.5):\n",
    "    \"\"\"Use Tukey's boxplot criterion for outlier identification.\n",
    "    :returns:\n",
    "    \"\"\"\n",
    "    top_quartile_cutoff = np.percentile(series.get_values(), 75)\n",
    "    bottom_quartile_cutoff = np.percentile(series.get_values(), 25)\n",
    "    # Compute interquartile range\n",
    "    iqr = top_quartile_cutoff - bottom_quartile_cutoff\n",
    "    top_outlier_cutoff = top_quartile_cutoff + iqr * iqr_multiplier\n",
    "    bottom_outlier_cutoff = bottom_quartile_cutoff - iqr * iqr_multiplier\n",
    "    return series[\n",
    "        (series < bottom_outlier_cutoff) | (series > top_outlier_cutoff)]\n",
    "\n",
    "def to_keyed_ts(tuple_rdd):\n",
    "    \"\"\"Transforms a rdd of tuples in the form ((store_nbr, item_nbr),\n",
    "    (day_dt, pos_sales_qty)) into an rdd keyed by (store_nbr, item_nbr) and\n",
    "    an associated value that is a pandas Series of counts of sales\n",
    "    indexed by day.\n",
    "    \"\"\"\n",
    "    split_line_data = tuple_rdd.map(lambda line: line.split('\\t'))\n",
    "    select_data = split_line_data.filter(enough_records) \\\n",
    "        .map(lambda row: ((row[0], row[1]), (row[4], row[8])))\n",
    "    all_as_rdd = select_data.groupByKey().mapValues(lambda iterable:\n",
    "                                                    to_series(iterable.data))\n",
    "    return all_as_rdd.filter(lambda tuple: tuple[1] is not None) \\\n",
    "        .filter(lambda tuple: filter_on_min_events(tuple, 30))\n",
    "\n",
    "def to_series(list_of_tuples):\n",
    "    \"\"\"Transforms a list of tuples of the form (date_dt, count) in to a pandas\n",
    "    series indexed by dt.\n",
    "    \"\"\"\n",
    "    time_val_tuples = [(pd.to_datetime(dt, format='%Y/%m/%d', coerce=True),\n",
    "                        convert_numeric(val)) for (dt, val) in list_of_tuples]\n",
    "    cleaned_time_val_tuples = [tuple for tuple in time_val_tuples if not (\n",
    "        tuple[0] is pd.NaT or tuple[1] is None)]\n",
    "    if len(cleaned_time_val_tuples) > 0:\n",
    "        unzipped_cleaned_time_values = zip(*cleaned_time_val_tuples)\n",
    "        values = unzipped_cleaned_time_values[1]\n",
    "        index_vals = unzipped_cleaned_time_values[0]\n",
    "        ret_val = pd.Series(values, index=index_vals).sort_index()\n",
    "    else:\n",
    "        ret_val = None\n",
    "    return ret_val"
   ]
  }
 ],
 "metadata": {
  "kernelspec": {
   "display_name": "Python 2",
   "language": "python",
   "name": "python2"
  },
  "language_info": {
   "codemirror_mode": {
    "name": "ipython",
    "version": 2
   },
   "file_extension": ".py",
   "mimetype": "text/x-python",
   "name": "python",
   "nbconvert_exporter": "python",
   "pygments_lexer": "ipython2",
   "version": "2.7.5"
  }
 },
 "nbformat": 4,
 "nbformat_minor": 1
}
