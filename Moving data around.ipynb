{
 "cells": [
  {
   "cell_type": "code",
   "execution_count": 1,
   "metadata": {
    "collapsed": false
   },
   "outputs": [],
   "source": [
    "import ibis"
   ]
  },
  {
   "cell_type": "code",
   "execution_count": 2,
   "metadata": {
    "collapsed": false
   },
   "outputs": [],
   "source": [
    "ibis.options.sql.default_limit = None\n",
    "\n",
    "hdfs_conn = ibis.hdfs_connect(host='bottou03.sjc.cloudera.com')\n",
    "\n",
    "ibis_conn = ibis.impala.connect(host='bottou01.sjc.cloudera.com',\n",
    "                                    port=21050,\n",
    "                                    hdfs_client=hdfs_conn)"
   ]
  },
  {
   "cell_type": "code",
   "execution_count": 3,
   "metadata": {
    "collapsed": false
   },
   "outputs": [],
   "source": [
    "hdfs_data_path = '/user/juliet'\n",
    "hdfs_conn.mkdir(hdfs_data_path)"
   ]
  },
  {
   "cell_type": "code",
   "execution_count": 4,
   "metadata": {
    "collapsed": false
   },
   "outputs": [
    {
     "data": {
      "text/plain": [
       "[u'.Trash', u'.sparkStaging', u'CPG_Demo', u'eggs', u'pageviews-gz']"
      ]
     },
     "execution_count": 4,
     "metadata": {},
     "output_type": "execute_result"
    }
   ],
   "source": [
    "hdfs_conn.ls('/user/juliet')"
   ]
  },
  {
   "cell_type": "code",
   "execution_count": 50,
   "metadata": {
    "collapsed": false
   },
   "outputs": [],
   "source": [
    "import os\n",
    "# System indepedent way to join paths\n",
    "local_data_path = os.path.join(os.getcwd(), \"pageviews-gz\")"
   ]
  },
  {
   "cell_type": "code",
   "execution_count": 52,
   "metadata": {
    "collapsed": false
   },
   "outputs": [
    {
     "data": {
      "text/plain": [
       "'pageviews-20160101-040000'"
      ]
     },
     "execution_count": 52,
     "metadata": {},
     "output_type": "execute_result"
    }
   ],
   "source": [
    "filenames = os.listdir(local_data_path)\n",
    "filenames[3][:-3]"
   ]
  },
  {
   "cell_type": "markdown",
   "metadata": {},
   "source": [
    "must put each file in its own dir because we need info from file name, using impala."
   ]
  },
  {
   "cell_type": "code",
   "execution_count": 73,
   "metadata": {
    "collapsed": false,
    "scrolled": true
   },
   "outputs": [],
   "source": [
    "hdfs_conn.mkdir('/user/juliet/pageviews-gz')\n",
    "def mv_files(filename):\n",
    "    dir_name = '/user/juliet/pageviews-gz/{}'.format(filename[:-3])\n",
    "    hdfs_conn.mkdir(dir_name)\n",
    "    filepathtarget='/'.join([dir_name, filename])\n",
    "    hdfs_conn.put(filepathtarget, os.path.join(local_data_path, filename))\n",
    "    return dir_name\n",
    "    \n",
    "hdfs_gz_dirs = [mv_files(filename) for filename in filenames]"
   ]
  },
  {
   "cell_type": "code",
   "execution_count": 13,
   "metadata": {
    "collapsed": false
   },
   "outputs": [],
   "source": [
    "hdfs_gz_dirs = hdfs_conn.ls('/user/juliet/pageviews-gz/')"
   ]
  },
  {
   "cell_type": "code",
   "execution_count": 55,
   "metadata": {
    "collapsed": false
   },
   "outputs": [],
   "source": [
    "hdfs_conn.mv('/user/juliet/python_Leenshtein-0.12.0-py2.7-linux-x86_64.egg', '/user/juliet/eggs')"
   ]
  },
  {
   "cell_type": "code",
   "execution_count": 56,
   "metadata": {
    "collapsed": false
   },
   "outputs": [
    {
     "data": {
      "text/plain": [
       "[u'.Trash', u'.sparkStaging', u'CPG_Demo', u'eggs']"
      ]
     },
     "execution_count": 56,
     "metadata": {},
     "output_type": "execute_result"
    }
   ],
   "source": [
    "hdfs_conn.ls('/user/juliet')"
   ]
  },
  {
   "cell_type": "code",
   "execution_count": 21,
   "metadata": {
    "collapsed": false
   },
   "outputs": [
    {
     "data": {
      "text/plain": [
       "[u'/user/juliet/pageviews-gz/pageviews-20160101-000000',\n",
       " u'/user/juliet/pageviews-gz/pageviews-20160101-010000',\n",
       " u'/user/juliet/pageviews-gz/pageviews-20160101-020000',\n",
       " u'/user/juliet/pageviews-gz/pageviews-20160101-030000',\n",
       " u'/user/juliet/pageviews-gz/pageviews-20160101-040000',\n",
       " u'/user/juliet/pageviews-gz/pageviews-20160101-050000',\n",
       " u'/user/juliet/pageviews-gz/pageviews-20160101-060000',\n",
       " u'/user/juliet/pageviews-gz/pageviews-20160101-070000',\n",
       " u'/user/juliet/pageviews-gz/pageviews-20160101-080000',\n",
       " u'/user/juliet/pageviews-gz/pageviews-20160101-090000',\n",
       " u'/user/juliet/pageviews-gz/pageviews-20160101-100000',\n",
       " u'/user/juliet/pageviews-gz/pageviews-20160101-110000',\n",
       " u'/user/juliet/pageviews-gz/pageviews-20160101-120000',\n",
       " u'/user/juliet/pageviews-gz/pageviews-20160101-130000',\n",
       " u'/user/juliet/pageviews-gz/pageviews-20160101-140000',\n",
       " u'/user/juliet/pageviews-gz/pageviews-20160101-150000',\n",
       " u'/user/juliet/pageviews-gz/pageviews-20160101-160000',\n",
       " u'/user/juliet/pageviews-gz/pageviews-20160101-170000',\n",
       " u'/user/juliet/pageviews-gz/pageviews-20160101-180000',\n",
       " u'/user/juliet/pageviews-gz/pageviews-20160101-190000',\n",
       " u'/user/juliet/pageviews-gz/pageviews-20160101-200000',\n",
       " u'/user/juliet/pageviews-gz/pageviews-20160101-210000',\n",
       " u'/user/juliet/pageviews-gz/pageviews-20160101-220000',\n",
       " u'/user/juliet/pageviews-gz/pageviews-20160101-230000']"
      ]
     },
     "execution_count": 21,
     "metadata": {},
     "output_type": "execute_result"
    }
   ],
   "source": [
    "hdfs_gz_dirs = [ '/user/juliet/pageviews-gz/' + filename for filename in hdfs_conn.ls('/user/juliet/pageviews-gz')]\n",
    "hdfs_gz_dirs"
   ]
  },
  {
   "cell_type": "code",
   "execution_count": 23,
   "metadata": {
    "collapsed": true
   },
   "outputs": [],
   "source": [
    "import pandas as pd\n",
    "\n",
    "def extract_datetime(filename):\n",
    "    _, date_str, time_str = filename.split(\"-\")\n",
    "    year = date_str[:4]\n",
    "    month = date_str[4:6]\n",
    "    day = date_str[-2:]\n",
    "    hour = time_str[:2]\n",
    "    return year, month, day, hour\n",
    "\n",
    "def to_pd_dt(filename):\n",
    "    return pd.to_datetime(filename, format='pageviews-%Y%m%d-%H0000')"
   ]
  },
  {
   "cell_type": "code",
   "execution_count": 82,
   "metadata": {
    "collapsed": false
   },
   "outputs": [
    {
     "data": {
      "text/plain": [
       "Timestamp('2016-01-02 03:00:00')"
      ]
     },
     "execution_count": 82,
     "metadata": {},
     "output_type": "execute_result"
    }
   ],
   "source": [
    "# quick check that this does the right thing\n",
    "extract_datetime('pageviews-20160102-030000.gz')\n",
    "to_pd_dt('pageviews-20160102-030000')"
   ]
  },
  {
   "cell_type": "markdown",
   "metadata": {},
   "source": [
    "Each file actually has important information about itself in its title. We need to decompressed each file (because gzip is not splittable and we could do better with compression codecs), read each into a dataset, concatenate all the datasets, write out the output in a better format. (Ie parquet with LZO compression)\n",
    "\n",
    "We could do this with spark or impala. Spark writes parquiet files without row groups (perhaps not strictly incorrect, but impala does not handle this well) For best mutual compatibility we should write out our parquet file with Impala, not Spark."
   ]
  },
  {
   "cell_type": "markdown",
   "metadata": {},
   "source": [
    "# Making a better file\n",
    "## Create Impala Table"
   ]
  },
  {
   "cell_type": "code",
   "execution_count": 21,
   "metadata": {
    "collapsed": false
   },
   "outputs": [],
   "source": [
    "ibis_conn.create_database('u_juliet')"
   ]
  },
  {
   "cell_type": "code",
   "execution_count": 17,
   "metadata": {
    "collapsed": false,
    "scrolled": true
   },
   "outputs": [],
   "source": [
    "ibis_conn.drop_table(table_name='wiki_pageviews', database='u_juliet')\n",
    "file_schema = ibis.schema([('project_name', 'string'),\n",
    "                           ('page_name', 'string'),\n",
    "                           ('monthly_total', 'int64'),\n",
    "                           ('hourly_total', 'int64')])"
   ]
  },
  {
   "cell_type": "code",
   "execution_count": 7,
   "metadata": {
    "collapsed": false
   },
   "outputs": [],
   "source": [
    "pageviews_tbl = ibis_conn.table('wiki_pageviews', database='u_juliet')"
   ]
  },
  {
   "cell_type": "code",
   "execution_count": 28,
   "metadata": {
    "collapsed": false
   },
   "outputs": [
    {
     "data": {
      "text/plain": [
       "4148173"
      ]
     },
     "execution_count": 28,
     "metadata": {},
     "output_type": "execute_result"
    }
   ],
   "source": [
    "ibis_conn.execute(pageviews_tbl.count())"
   ]
  },
  {
   "cell_type": "code",
   "execution_count": 15,
   "metadata": {
    "collapsed": false
   },
   "outputs": [
    {
     "data": {
      "text/plain": [
       "['wiki_pageviews']"
      ]
     },
     "execution_count": 15,
     "metadata": {},
     "output_type": "execute_result"
    }
   ],
   "source": [
    "u_juliet_db = ibis_conn.database('u_juliet')\n",
    "u_juliet_db.tables"
   ]
  },
  {
   "cell_type": "code",
   "execution_count": 27,
   "metadata": {
    "collapsed": false,
    "scrolled": true
   },
   "outputs": [
    {
     "ename": "IbisInputError",
     "evalue": "Cannot safely cast timestamp to string",
     "output_type": "error",
     "traceback": [
      "\u001b[0;31m---------------------------------------------------------------------------\u001b[0m",
      "\u001b[0;31mIbisInputError\u001b[0m                            Traceback (most recent call last)",
      "\u001b[0;32m<ipython-input-27-7ec70c52af66>\u001b[0m in \u001b[0;36m<module>\u001b[0;34m()\u001b[0m\n\u001b[1;32m     11\u001b[0m         \u001b[0mibis_conn\u001b[0m\u001b[0;34m.\u001b[0m\u001b[0mcreate_table\u001b[0m\u001b[0;34m(\u001b[0m\u001b[0;34m'wiki_pageviews'\u001b[0m\u001b[0;34m,\u001b[0m \u001b[0mobj\u001b[0m\u001b[0;34m=\u001b[0m\u001b[0mtmp_w_time\u001b[0m\u001b[0;34m,\u001b[0m \u001b[0mdatabase\u001b[0m\u001b[0;34m=\u001b[0m\u001b[0;34m'u_juliet'\u001b[0m\u001b[0;34m)\u001b[0m\u001b[0;34m\u001b[0m\u001b[0m\n\u001b[1;32m     12\u001b[0m \u001b[0;34m\u001b[0m\u001b[0m\n\u001b[0;32m---> 13\u001b[0;31m \u001b[0mgz_2_data_insert\u001b[0m\u001b[0;34m(\u001b[0m\u001b[0mhdfs_gz_dirs\u001b[0m\u001b[0;34m[\u001b[0m\u001b[0;36m4\u001b[0m\u001b[0;34m]\u001b[0m\u001b[0;34m,\u001b[0m \u001b[0mu_juliet_db\u001b[0m\u001b[0;34m)\u001b[0m\u001b[0;34m\u001b[0m\u001b[0m\n\u001b[0m",
      "\u001b[0;32m<ipython-input-27-7ec70c52af66>\u001b[0m in \u001b[0;36mgz_2_data_insert\u001b[0;34m(data_dir, db_expr)\u001b[0m\n\u001b[1;32m      7\u001b[0m     \u001b[0mtmp_w_time\u001b[0m \u001b[0;34m=\u001b[0m \u001b[0mtmp_table\u001b[0m\u001b[0;34m.\u001b[0m\u001b[0mmutate\u001b[0m\u001b[0;34m(\u001b[0m\u001b[0mtime\u001b[0m\u001b[0;34m=\u001b[0m\u001b[0mpdtime\u001b[0m\u001b[0;34m)\u001b[0m\u001b[0;34m\u001b[0m\u001b[0m\n\u001b[1;32m      8\u001b[0m     \u001b[0;32mif\u001b[0m \u001b[0;34m'wiki_pageviews'\u001b[0m \u001b[0;32min\u001b[0m \u001b[0mdb_expr\u001b[0m\u001b[0;34m.\u001b[0m\u001b[0mtables\u001b[0m\u001b[0;34m:\u001b[0m\u001b[0;34m\u001b[0m\u001b[0m\n\u001b[0;32m----> 9\u001b[0;31m         \u001b[0mibis_conn\u001b[0m\u001b[0;34m.\u001b[0m\u001b[0minsert\u001b[0m\u001b[0;34m(\u001b[0m\u001b[0;34m'wiki_pageviews'\u001b[0m\u001b[0;34m,\u001b[0m \u001b[0mtmp_w_time\u001b[0m\u001b[0;34m,\u001b[0m \u001b[0mdatabase\u001b[0m\u001b[0;34m=\u001b[0m\u001b[0;34m'u_juliet'\u001b[0m\u001b[0;34m)\u001b[0m\u001b[0;34m\u001b[0m\u001b[0m\n\u001b[0m\u001b[1;32m     10\u001b[0m     \u001b[0;32melse\u001b[0m\u001b[0;34m:\u001b[0m\u001b[0;34m\u001b[0m\u001b[0m\n\u001b[1;32m     11\u001b[0m         \u001b[0mibis_conn\u001b[0m\u001b[0;34m.\u001b[0m\u001b[0mcreate_table\u001b[0m\u001b[0;34m(\u001b[0m\u001b[0;34m'wiki_pageviews'\u001b[0m\u001b[0;34m,\u001b[0m \u001b[0mobj\u001b[0m\u001b[0;34m=\u001b[0m\u001b[0mtmp_w_time\u001b[0m\u001b[0;34m,\u001b[0m \u001b[0mdatabase\u001b[0m\u001b[0;34m=\u001b[0m\u001b[0;34m'u_juliet'\u001b[0m\u001b[0;34m)\u001b[0m\u001b[0;34m\u001b[0m\u001b[0m\n",
      "\u001b[0;32m/home/juliet/.virtualenvs/pytutorial/local/lib/python2.7/site-packages/ibis/impala/client.pyc\u001b[0m in \u001b[0;36minsert\u001b[0;34m(self, table_name, obj, database, overwrite, partition, values, validate)\u001b[0m\n\u001b[1;32m   1082\u001b[0m         \u001b[0mtable\u001b[0m \u001b[0;34m=\u001b[0m \u001b[0mself\u001b[0m\u001b[0;34m.\u001b[0m\u001b[0mtable\u001b[0m\u001b[0;34m(\u001b[0m\u001b[0mtable_name\u001b[0m\u001b[0;34m,\u001b[0m \u001b[0mdatabase\u001b[0m\u001b[0;34m=\u001b[0m\u001b[0mdatabase\u001b[0m\u001b[0;34m)\u001b[0m\u001b[0;34m\u001b[0m\u001b[0m\n\u001b[1;32m   1083\u001b[0m         return table.insert(obj=obj, overwrite=overwrite, partition=partition,\n\u001b[0;32m-> 1084\u001b[0;31m                             values=values, validate=validate)\n\u001b[0m\u001b[1;32m   1085\u001b[0m \u001b[0;34m\u001b[0m\u001b[0m\n\u001b[1;32m   1086\u001b[0m     def load_data(self, table_name, path, database=None, overwrite=False,\n",
      "\u001b[0;32m/home/juliet/.virtualenvs/pytutorial/local/lib/python2.7/site-packages/ibis/impala/client.pyc\u001b[0m in \u001b[0;36minsert\u001b[0;34m(self, obj, overwrite, partition, values, validate)\u001b[0m\n\u001b[1;32m   1675\u001b[0m             \u001b[0minsert_schema\u001b[0m \u001b[0;34m=\u001b[0m \u001b[0mexpr\u001b[0m\u001b[0;34m.\u001b[0m\u001b[0mschema\u001b[0m\u001b[0;34m(\u001b[0m\u001b[0;34m)\u001b[0m\u001b[0;34m\u001b[0m\u001b[0m\n\u001b[1;32m   1676\u001b[0m             \u001b[0;32mif\u001b[0m \u001b[0;32mnot\u001b[0m \u001b[0minsert_schema\u001b[0m\u001b[0;34m.\u001b[0m\u001b[0mequals\u001b[0m\u001b[0;34m(\u001b[0m\u001b[0mexisting_schema\u001b[0m\u001b[0;34m)\u001b[0m\u001b[0;34m:\u001b[0m\u001b[0;34m\u001b[0m\u001b[0m\n\u001b[0;32m-> 1677\u001b[0;31m                 \u001b[0m_validate_compatible\u001b[0m\u001b[0;34m(\u001b[0m\u001b[0minsert_schema\u001b[0m\u001b[0;34m,\u001b[0m \u001b[0mexisting_schema\u001b[0m\u001b[0;34m)\u001b[0m\u001b[0;34m\u001b[0m\u001b[0m\n\u001b[0m\u001b[1;32m   1678\u001b[0m \u001b[0;34m\u001b[0m\u001b[0m\n\u001b[1;32m   1679\u001b[0m         \u001b[0;32mif\u001b[0m \u001b[0mpartition\u001b[0m \u001b[0;32mis\u001b[0m \u001b[0;32mnot\u001b[0m \u001b[0mNone\u001b[0m\u001b[0;34m:\u001b[0m\u001b[0;34m\u001b[0m\u001b[0m\n",
      "\u001b[0;32m/home/juliet/.virtualenvs/pytutorial/local/lib/python2.7/site-packages/ibis/impala/client.pyc\u001b[0m in \u001b[0;36m_validate_compatible\u001b[0;34m(from_schema, to_schema)\u001b[0m\n\u001b[1;32m   1937\u001b[0m         \u001b[0;32mif\u001b[0m \u001b[0;32mnot\u001b[0m \u001b[0mrt\u001b[0m\u001b[0;34m.\u001b[0m\u001b[0mcan_implicit_cast\u001b[0m\u001b[0;34m(\u001b[0m\u001b[0mlt\u001b[0m\u001b[0;34m)\u001b[0m\u001b[0;34m:\u001b[0m\u001b[0;34m\u001b[0m\u001b[0m\n\u001b[1;32m   1938\u001b[0m             raise com.IbisInputError('Cannot safely cast {0!r} to {1!r}'\n\u001b[0;32m-> 1939\u001b[0;31m                                      .format(lt, rt))\n\u001b[0m\u001b[1;32m   1940\u001b[0m \u001b[0;34m\u001b[0m\u001b[0m\n\u001b[1;32m   1941\u001b[0m \u001b[0;34m\u001b[0m\u001b[0m\n",
      "\u001b[0;31mIbisInputError\u001b[0m: Cannot safely cast timestamp to string"
     ]
    }
   ],
   "source": [
    "def gz_2_data_insert(data_dir, db_expr):\n",
    "    tmp_table = ibis_conn.delimited_file(hdfs_dir=data_dir,\n",
    "                                  schema=file_schema,\n",
    "                                  delimiter=' ')\n",
    "    pdtime = to_pd_dt(data_dir.split(\"/\")[-1])\n",
    "    # create a column named time\n",
    "    tmp_w_time = tmp_table.mutate(time=pdtime)\n",
    "    if 'wiki_pageviews' in db_expr.tables:\n",
    "        ibis_conn.insert('wiki_pageviews', tmp_w_time, database='u_juliet')\n",
    "    else:\n",
    "        ibis_conn.create_table('wiki_pageviews', obj=tmp_w_time, database='u_juliet')\n",
    "\n",
    "gz_2_data_insert(hdfs_gz_dirs[4], u_juliet_db)"
   ]
  },
  {
   "cell_type": "code",
   "execution_count": 108,
   "metadata": {
    "collapsed": false
   },
   "outputs": [
    {
     "data": {
      "text/plain": [
       "['wiki_pageviews']"
      ]
     },
     "execution_count": 108,
     "metadata": {},
     "output_type": "execute_result"
    }
   ],
   "source": [
    "u_juliet_db.tables"
   ]
  },
  {
   "cell_type": "code",
   "execution_count": 78,
   "metadata": {
    "collapsed": false
   },
   "outputs": [
    {
     "data": {
      "text/html": [
       "<div>\n",
       "<table border=\"1\" class=\"dataframe\">\n",
       "  <thead>\n",
       "    <tr style=\"text-align: right;\">\n",
       "      <th></th>\n",
       "      <th>project_name</th>\n",
       "      <th>page_name</th>\n",
       "      <th>monthly_total</th>\n",
       "      <th>hourly_total</th>\n",
       "    </tr>\n",
       "  </thead>\n",
       "  <tbody>\n",
       "    <tr>\n",
       "      <th>0</th>\n",
       "      <td>aa</td>\n",
       "      <td>Main_Page</td>\n",
       "      <td>11</td>\n",
       "      <td>0</td>\n",
       "    </tr>\n",
       "    <tr>\n",
       "      <th>1</th>\n",
       "      <td>aa</td>\n",
       "      <td>MediaWiki:Sitenotice</td>\n",
       "      <td>1</td>\n",
       "      <td>0</td>\n",
       "    </tr>\n",
       "    <tr>\n",
       "      <th>2</th>\n",
       "      <td>aa</td>\n",
       "      <td>Special:Contributions/Pathoschild</td>\n",
       "      <td>1</td>\n",
       "      <td>0</td>\n",
       "    </tr>\n",
       "    <tr>\n",
       "      <th>3</th>\n",
       "      <td>aa</td>\n",
       "      <td>Special:Contributions/Shanel</td>\n",
       "      <td>1</td>\n",
       "      <td>0</td>\n",
       "    </tr>\n",
       "    <tr>\n",
       "      <th>4</th>\n",
       "      <td>aa</td>\n",
       "      <td>Special:ListFiles</td>\n",
       "      <td>1</td>\n",
       "      <td>0</td>\n",
       "    </tr>\n",
       "    <tr>\n",
       "      <th>5</th>\n",
       "      <td>aa</td>\n",
       "      <td>Special:ListUsers</td>\n",
       "      <td>1</td>\n",
       "      <td>0</td>\n",
       "    </tr>\n",
       "    <tr>\n",
       "      <th>6</th>\n",
       "      <td>aa</td>\n",
       "      <td>Special:ListUsers/sysop</td>\n",
       "      <td>1</td>\n",
       "      <td>0</td>\n",
       "    </tr>\n",
       "    <tr>\n",
       "      <th>7</th>\n",
       "      <td>aa</td>\n",
       "      <td>Special:Log/</td>\n",
       "      <td>2</td>\n",
       "      <td>0</td>\n",
       "    </tr>\n",
       "    <tr>\n",
       "      <th>8</th>\n",
       "      <td>aa</td>\n",
       "      <td>Special:Statistics</td>\n",
       "      <td>1</td>\n",
       "      <td>0</td>\n",
       "    </tr>\n",
       "    <tr>\n",
       "      <th>9</th>\n",
       "      <td>aa</td>\n",
       "      <td>User:Shanel</td>\n",
       "      <td>1</td>\n",
       "      <td>0</td>\n",
       "    </tr>\n",
       "    <tr>\n",
       "      <th>10</th>\n",
       "      <td>aa.d</td>\n",
       "      <td>Special:Contributions/Shanel</td>\n",
       "      <td>2</td>\n",
       "      <td>0</td>\n",
       "    </tr>\n",
       "    <tr>\n",
       "      <th>11</th>\n",
       "      <td>aa.d</td>\n",
       "      <td>Special:Log/Shanel</td>\n",
       "      <td>1</td>\n",
       "      <td>0</td>\n",
       "    </tr>\n",
       "    <tr>\n",
       "      <th>12</th>\n",
       "      <td>aa.d</td>\n",
       "      <td>User:Shanel</td>\n",
       "      <td>1</td>\n",
       "      <td>0</td>\n",
       "    </tr>\n",
       "    <tr>\n",
       "      <th>13</th>\n",
       "      <td>aa.m</td>\n",
       "      <td>Main_Page</td>\n",
       "      <td>1</td>\n",
       "      <td>0</td>\n",
       "    </tr>\n",
       "    <tr>\n",
       "      <th>14</th>\n",
       "      <td>aa.m</td>\n",
       "      <td>Special:Statistics</td>\n",
       "      <td>1</td>\n",
       "      <td>0</td>\n",
       "    </tr>\n",
       "    <tr>\n",
       "      <th>15</th>\n",
       "      <td>ab</td>\n",
       "      <td>1989</td>\n",
       "      <td>1</td>\n",
       "      <td>0</td>\n",
       "    </tr>\n",
       "    <tr>\n",
       "      <th>16</th>\n",
       "      <td>ab</td>\n",
       "      <td>2009</td>\n",
       "      <td>1</td>\n",
       "      <td>0</td>\n",
       "    </tr>\n",
       "    <tr>\n",
       "      <th>17</th>\n",
       "      <td>ab</td>\n",
       "      <td>Абылгар_бызшәа</td>\n",
       "      <td>1</td>\n",
       "      <td>0</td>\n",
       "    </tr>\n",
       "    <tr>\n",
       "      <th>18</th>\n",
       "      <td>ab</td>\n",
       "      <td>Авикипедиа:Авикипедиақәа_Рхьӡынҵа</td>\n",
       "      <td>2</td>\n",
       "      <td>0</td>\n",
       "    </tr>\n",
       "    <tr>\n",
       "      <th>19</th>\n",
       "      <td>ab</td>\n",
       "      <td>Авикипедиа:Афорум</td>\n",
       "      <td>1</td>\n",
       "      <td>0</td>\n",
       "    </tr>\n",
       "    <tr>\n",
       "      <th>20</th>\n",
       "      <td>ab</td>\n",
       "      <td>Авикипедиа:Описание</td>\n",
       "      <td>1</td>\n",
       "      <td>0</td>\n",
       "    </tr>\n",
       "    <tr>\n",
       "      <th>21</th>\n",
       "      <td>ab</td>\n",
       "      <td>Авикипедиа_ахцәажәара:Портал_сообщества</td>\n",
       "      <td>1</td>\n",
       "      <td>0</td>\n",
       "    </tr>\n",
       "    <tr>\n",
       "      <th>22</th>\n",
       "      <td>ab</td>\n",
       "      <td>Адунеи_аҳҭнықалақьқәа_рыхьӡынҵа</td>\n",
       "      <td>1</td>\n",
       "      <td>0</td>\n",
       "    </tr>\n",
       "    <tr>\n",
       "      <th>23</th>\n",
       "      <td>ab</td>\n",
       "      <td>Акарпыжә</td>\n",
       "      <td>1</td>\n",
       "      <td>0</td>\n",
       "    </tr>\n",
       "    <tr>\n",
       "      <th>24</th>\n",
       "      <td>ab</td>\n",
       "      <td>Акатегориа:User_en-3</td>\n",
       "      <td>1</td>\n",
       "      <td>0</td>\n",
       "    </tr>\n",
       "    <tr>\n",
       "      <th>25</th>\n",
       "      <td>ab</td>\n",
       "      <td>Акатегориа:User_ka</td>\n",
       "      <td>1</td>\n",
       "      <td>0</td>\n",
       "    </tr>\n",
       "    <tr>\n",
       "      <th>26</th>\n",
       "      <td>ab</td>\n",
       "      <td>Акатегориа:User_ka-N</td>\n",
       "      <td>1</td>\n",
       "      <td>0</td>\n",
       "    </tr>\n",
       "    <tr>\n",
       "      <th>27</th>\n",
       "      <td>ab</td>\n",
       "      <td>Акатегориа:User_sk</td>\n",
       "      <td>1</td>\n",
       "      <td>0</td>\n",
       "    </tr>\n",
       "    <tr>\n",
       "      <th>28</th>\n",
       "      <td>ab</td>\n",
       "      <td>Акатегориа:User_sk-N</td>\n",
       "      <td>1</td>\n",
       "      <td>0</td>\n",
       "    </tr>\n",
       "    <tr>\n",
       "      <th>29</th>\n",
       "      <td>ab</td>\n",
       "      <td>Акатегориа:Wikipedia_bots</td>\n",
       "      <td>1</td>\n",
       "      <td>0</td>\n",
       "    </tr>\n",
       "    <tr>\n",
       "      <th>...</th>\n",
       "      <td>...</td>\n",
       "      <td>...</td>\n",
       "      <td>...</td>\n",
       "      <td>...</td>\n",
       "    </tr>\n",
       "    <tr>\n",
       "      <th>70</th>\n",
       "      <td>ab</td>\n",
       "      <td>Ашаблон:FRA</td>\n",
       "      <td>1</td>\n",
       "      <td>0</td>\n",
       "    </tr>\n",
       "    <tr>\n",
       "      <th>71</th>\n",
       "      <td>ab</td>\n",
       "      <td>Ашаблон:RUS</td>\n",
       "      <td>1</td>\n",
       "      <td>0</td>\n",
       "    </tr>\n",
       "    <tr>\n",
       "      <th>72</th>\n",
       "      <td>ab</td>\n",
       "      <td>Ашаблон:Абыраҟдырга/Урыстәыла</td>\n",
       "      <td>1</td>\n",
       "      <td>0</td>\n",
       "    </tr>\n",
       "    <tr>\n",
       "      <th>73</th>\n",
       "      <td>ab</td>\n",
       "      <td>Ашаблон:Абыраҟдырга/Қырҭтәыла</td>\n",
       "      <td>1</td>\n",
       "      <td>0</td>\n",
       "    </tr>\n",
       "    <tr>\n",
       "      <th>74</th>\n",
       "      <td>ab</td>\n",
       "      <td>Ашаблон:Аславиан_бызшәақәа</td>\n",
       "      <td>1</td>\n",
       "      <td>0</td>\n",
       "    </tr>\n",
       "    <tr>\n",
       "      <th>75</th>\n",
       "      <td>ab</td>\n",
       "      <td>Ашәахьа</td>\n",
       "      <td>1</td>\n",
       "      <td>0</td>\n",
       "    </tr>\n",
       "    <tr>\n",
       "      <th>76</th>\n",
       "      <td>ab</td>\n",
       "      <td>Аҧсны</td>\n",
       "      <td>1</td>\n",
       "      <td>0</td>\n",
       "    </tr>\n",
       "    <tr>\n",
       "      <th>77</th>\n",
       "      <td>ab</td>\n",
       "      <td>Аҧшьаша</td>\n",
       "      <td>1</td>\n",
       "      <td>0</td>\n",
       "    </tr>\n",
       "    <tr>\n",
       "      <th>78</th>\n",
       "      <td>ab</td>\n",
       "      <td>Аҩаша</td>\n",
       "      <td>1</td>\n",
       "      <td>0</td>\n",
       "    </tr>\n",
       "    <tr>\n",
       "      <th>79</th>\n",
       "      <td>ab</td>\n",
       "      <td>Аҩнуҵҟатәи_Қарҭли</td>\n",
       "      <td>1</td>\n",
       "      <td>0</td>\n",
       "    </tr>\n",
       "    <tr>\n",
       "      <th>80</th>\n",
       "      <td>ab</td>\n",
       "      <td>Аҩӡыбжьара</td>\n",
       "      <td>1</td>\n",
       "      <td>0</td>\n",
       "    </tr>\n",
       "    <tr>\n",
       "      <th>81</th>\n",
       "      <td>ab</td>\n",
       "      <td>Аҳәынҭқарратә_агербқәа_рыхьӡынҵа</td>\n",
       "      <td>5</td>\n",
       "      <td>0</td>\n",
       "    </tr>\n",
       "    <tr>\n",
       "      <th>82</th>\n",
       "      <td>ab</td>\n",
       "      <td>Борис_Грызлов</td>\n",
       "      <td>1</td>\n",
       "      <td>0</td>\n",
       "    </tr>\n",
       "    <tr>\n",
       "      <th>83</th>\n",
       "      <td>ab</td>\n",
       "      <td>Варшава</td>\n",
       "      <td>2</td>\n",
       "      <td>0</td>\n",
       "    </tr>\n",
       "    <tr>\n",
       "      <th>84</th>\n",
       "      <td>ab</td>\n",
       "      <td>Владимир_Путин</td>\n",
       "      <td>1</td>\n",
       "      <td>0</td>\n",
       "    </tr>\n",
       "    <tr>\n",
       "      <th>85</th>\n",
       "      <td>ab</td>\n",
       "      <td>Гәар</td>\n",
       "      <td>1</td>\n",
       "      <td>0</td>\n",
       "    </tr>\n",
       "    <tr>\n",
       "      <th>86</th>\n",
       "      <td>ab</td>\n",
       "      <td>Дмитри_Анатоли-иҧа_Медведев</td>\n",
       "      <td>1</td>\n",
       "      <td>0</td>\n",
       "    </tr>\n",
       "    <tr>\n",
       "      <th>87</th>\n",
       "      <td>ab</td>\n",
       "      <td>Дмитрии_Рогозин</td>\n",
       "      <td>2</td>\n",
       "      <td>0</td>\n",
       "    </tr>\n",
       "    <tr>\n",
       "      <th>88</th>\n",
       "      <td>ab</td>\n",
       "      <td>Еидгылоу_Амилаҭқәа_Рорганизациа</td>\n",
       "      <td>2</td>\n",
       "      <td>0</td>\n",
       "    </tr>\n",
       "    <tr>\n",
       "      <th>89</th>\n",
       "      <td>ab</td>\n",
       "      <td>Ернесто_Че_Гевара</td>\n",
       "      <td>1</td>\n",
       "      <td>0</td>\n",
       "    </tr>\n",
       "    <tr>\n",
       "      <th>90</th>\n",
       "      <td>ab</td>\n",
       "      <td>Жьҭаара</td>\n",
       "      <td>1</td>\n",
       "      <td>0</td>\n",
       "    </tr>\n",
       "    <tr>\n",
       "      <th>91</th>\n",
       "      <td>ab</td>\n",
       "      <td>Жәыргьыҭ</td>\n",
       "      <td>1</td>\n",
       "      <td>0</td>\n",
       "    </tr>\n",
       "    <tr>\n",
       "      <th>92</th>\n",
       "      <td>ab</td>\n",
       "      <td>Иурии_Лужков</td>\n",
       "      <td>1</td>\n",
       "      <td>0</td>\n",
       "    </tr>\n",
       "    <tr>\n",
       "      <th>93</th>\n",
       "      <td>ab</td>\n",
       "      <td>Иурии_Ҷҟадуа</td>\n",
       "      <td>1</td>\n",
       "      <td>0</td>\n",
       "    </tr>\n",
       "    <tr>\n",
       "      <th>94</th>\n",
       "      <td>ab</td>\n",
       "      <td>Ихадоу_адаҟьа</td>\n",
       "      <td>16</td>\n",
       "      <td>0</td>\n",
       "    </tr>\n",
       "    <tr>\n",
       "      <th>95</th>\n",
       "      <td>ab</td>\n",
       "      <td>Ишимбай</td>\n",
       "      <td>1</td>\n",
       "      <td>0</td>\n",
       "    </tr>\n",
       "    <tr>\n",
       "      <th>96</th>\n",
       "      <td>ab</td>\n",
       "      <td>Лиудвиг_ван_Бетховен</td>\n",
       "      <td>1</td>\n",
       "      <td>0</td>\n",
       "    </tr>\n",
       "    <tr>\n",
       "      <th>97</th>\n",
       "      <td>ab</td>\n",
       "      <td>Лобез</td>\n",
       "      <td>2</td>\n",
       "      <td>0</td>\n",
       "    </tr>\n",
       "    <tr>\n",
       "      <th>98</th>\n",
       "      <td>ab</td>\n",
       "      <td>Лондан_1908</td>\n",
       "      <td>1</td>\n",
       "      <td>0</td>\n",
       "    </tr>\n",
       "    <tr>\n",
       "      <th>99</th>\n",
       "      <td>ab</td>\n",
       "      <td>Маиҟәаҧа</td>\n",
       "      <td>1</td>\n",
       "      <td>0</td>\n",
       "    </tr>\n",
       "  </tbody>\n",
       "</table>\n",
       "<p>100 rows × 4 columns</p>\n",
       "</div>"
      ],
      "text/plain": [
       "   project_name                                page_name  monthly_total  \\\n",
       "0            aa                                Main_Page             11   \n",
       "1            aa                     MediaWiki:Sitenotice              1   \n",
       "2            aa        Special:Contributions/Pathoschild              1   \n",
       "3            aa             Special:Contributions/Shanel              1   \n",
       "4            aa                        Special:ListFiles              1   \n",
       "5            aa                        Special:ListUsers              1   \n",
       "6            aa                  Special:ListUsers/sysop              1   \n",
       "7            aa                             Special:Log/              2   \n",
       "8            aa                       Special:Statistics              1   \n",
       "9            aa                              User:Shanel              1   \n",
       "10         aa.d             Special:Contributions/Shanel              2   \n",
       "11         aa.d                       Special:Log/Shanel              1   \n",
       "12         aa.d                              User:Shanel              1   \n",
       "13         aa.m                                Main_Page              1   \n",
       "14         aa.m                       Special:Statistics              1   \n",
       "15           ab                                     1989              1   \n",
       "16           ab                                     2009              1   \n",
       "17           ab                           Абылгар_бызшәа              1   \n",
       "18           ab        Авикипедиа:Авикипедиақәа_Рхьӡынҵа              2   \n",
       "19           ab                        Авикипедиа:Афорум              1   \n",
       "20           ab                      Авикипедиа:Описание              1   \n",
       "21           ab  Авикипедиа_ахцәажәара:Портал_сообщества              1   \n",
       "22           ab          Адунеи_аҳҭнықалақьқәа_рыхьӡынҵа              1   \n",
       "23           ab                                 Акарпыжә              1   \n",
       "24           ab                     Акатегориа:User_en-3              1   \n",
       "25           ab                       Акатегориа:User_ka              1   \n",
       "26           ab                     Акатегориа:User_ka-N              1   \n",
       "27           ab                       Акатегориа:User_sk              1   \n",
       "28           ab                     Акатегориа:User_sk-N              1   \n",
       "29           ab                Акатегориа:Wikipedia_bots              1   \n",
       "..          ...                                      ...            ...   \n",
       "70           ab                              Ашаблон:FRA              1   \n",
       "71           ab                              Ашаблон:RUS              1   \n",
       "72           ab            Ашаблон:Абыраҟдырга/Урыстәыла              1   \n",
       "73           ab            Ашаблон:Абыраҟдырга/Қырҭтәыла              1   \n",
       "74           ab               Ашаблон:Аславиан_бызшәақәа              1   \n",
       "75           ab                                  Ашәахьа              1   \n",
       "76           ab                                    Аҧсны              1   \n",
       "77           ab                                  Аҧшьаша              1   \n",
       "78           ab                                    Аҩаша              1   \n",
       "79           ab                        Аҩнуҵҟатәи_Қарҭли              1   \n",
       "80           ab                               Аҩӡыбжьара              1   \n",
       "81           ab         Аҳәынҭқарратә_агербқәа_рыхьӡынҵа              5   \n",
       "82           ab                            Борис_Грызлов              1   \n",
       "83           ab                                  Варшава              2   \n",
       "84           ab                           Владимир_Путин              1   \n",
       "85           ab                                     Гәар              1   \n",
       "86           ab              Дмитри_Анатоли-иҧа_Медведев              1   \n",
       "87           ab                          Дмитрии_Рогозин              2   \n",
       "88           ab          Еидгылоу_Амилаҭқәа_Рорганизациа              2   \n",
       "89           ab                        Ернесто_Че_Гевара              1   \n",
       "90           ab                                  Жьҭаара              1   \n",
       "91           ab                                 Жәыргьыҭ              1   \n",
       "92           ab                             Иурии_Лужков              1   \n",
       "93           ab                             Иурии_Ҷҟадуа              1   \n",
       "94           ab                            Ихадоу_адаҟьа             16   \n",
       "95           ab                                  Ишимбай              1   \n",
       "96           ab                     Лиудвиг_ван_Бетховен              1   \n",
       "97           ab                                    Лобез              2   \n",
       "98           ab                              Лондан_1908              1   \n",
       "99           ab                                 Маиҟәаҧа              1   \n",
       "\n",
       "    hourly_total  \n",
       "0              0  \n",
       "1              0  \n",
       "2              0  \n",
       "3              0  \n",
       "4              0  \n",
       "5              0  \n",
       "6              0  \n",
       "7              0  \n",
       "8              0  \n",
       "9              0  \n",
       "10             0  \n",
       "11             0  \n",
       "12             0  \n",
       "13             0  \n",
       "14             0  \n",
       "15             0  \n",
       "16             0  \n",
       "17             0  \n",
       "18             0  \n",
       "19             0  \n",
       "20             0  \n",
       "21             0  \n",
       "22             0  \n",
       "23             0  \n",
       "24             0  \n",
       "25             0  \n",
       "26             0  \n",
       "27             0  \n",
       "28             0  \n",
       "29             0  \n",
       "..           ...  \n",
       "70             0  \n",
       "71             0  \n",
       "72             0  \n",
       "73             0  \n",
       "74             0  \n",
       "75             0  \n",
       "76             0  \n",
       "77             0  \n",
       "78             0  \n",
       "79             0  \n",
       "80             0  \n",
       "81             0  \n",
       "82             0  \n",
       "83             0  \n",
       "84             0  \n",
       "85             0  \n",
       "86             0  \n",
       "87             0  \n",
       "88             0  \n",
       "89             0  \n",
       "90             0  \n",
       "91             0  \n",
       "92             0  \n",
       "93             0  \n",
       "94             0  \n",
       "95             0  \n",
       "96             0  \n",
       "97             0  \n",
       "98             0  \n",
       "99             0  \n",
       "\n",
       "[100 rows x 4 columns]"
      ]
     },
     "execution_count": 78,
     "metadata": {},
     "output_type": "execute_result"
    }
   ],
   "source": [
    "pageviews_tbl = ibis_conn.table('wiki_pageviews', database='u_juliet')"
   ]
  },
  {
   "cell_type": "code",
   "execution_count": null,
   "metadata": {
    "collapsed": false
   },
   "outputs": [],
   "source": []
  },
  {
   "cell_type": "code",
   "execution_count": null,
   "metadata": {
    "collapsed": true
   },
   "outputs": [],
   "source": []
  }
 ],
 "metadata": {
  "kernelspec": {
   "display_name": "Python 2",
   "language": "python",
   "name": "python2"
  },
  "language_info": {
   "codemirror_mode": {
    "name": "ipython",
    "version": 2
   },
   "file_extension": ".py",
   "mimetype": "text/x-python",
   "name": "python",
   "nbconvert_exporter": "python",
   "pygments_lexer": "ipython2",
   "version": "2.7.6"
  }
 },
 "nbformat": 4,
 "nbformat_minor": 1
}
