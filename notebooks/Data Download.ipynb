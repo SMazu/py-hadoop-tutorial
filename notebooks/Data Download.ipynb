{
 "cells": [
  {
   "cell_type": "code",
   "execution_count": 3,
   "metadata": {
    "collapsed": false
   },
   "outputs": [],
   "source": [
    "import requests\n",
    "from bs4 import BeautifulSoup"
   ]
  },
  {
   "cell_type": "code",
   "execution_count": 9,
   "metadata": {
    "collapsed": false
   },
   "outputs": [],
   "source": [
    "def get_pageviews(year, month, day):\n",
    "    pageviews_url = 'https://dumps.wikimedia.org/other/pageviews/{0}/{0}-{1}/'.format(year, month)\n",
    "    soup = BeautifulSoup(requests.get(pageviews_url).text)\n",
    "    for a in soup.find_all('a'):\n",
    "        if 'pageviews-{0}{1}{2}'.format(year, month, day) in a['href']:\n",
    "            yield pageviews_url + a['href']\n",
    "            \n",
    "def write_file(url):\n",
    "    req = requests.get(url, stream=True)\n",
    "    local_filename = url.split(\"/\")[-1]\n",
    "    with open('data/' + local_filename, 'wb') as f:\n",
    "        for chunk in req.iter_content(chunk_size=1024):\n",
    "            if chunk:\n",
    "                f.write(chunk)\n",
    "                f.flush()"
   ]
  },
  {
   "cell_type": "code",
   "execution_count": 11,
   "metadata": {
    "collapsed": false
   },
   "outputs": [
    {
     "data": {
      "text/plain": [
       "[u'https://dumps.wikimedia.org/other/pageviews/2016/2016-01/pageviews-20160101-000000.gz',\n",
       " u'https://dumps.wikimedia.org/other/pageviews/2016/2016-01/pageviews-20160101-010000.gz',\n",
       " u'https://dumps.wikimedia.org/other/pageviews/2016/2016-01/pageviews-20160101-020000.gz',\n",
       " u'https://dumps.wikimedia.org/other/pageviews/2016/2016-01/pageviews-20160101-030000.gz',\n",
       " u'https://dumps.wikimedia.org/other/pageviews/2016/2016-01/pageviews-20160101-040000.gz',\n",
       " u'https://dumps.wikimedia.org/other/pageviews/2016/2016-01/pageviews-20160101-050000.gz',\n",
       " u'https://dumps.wikimedia.org/other/pageviews/2016/2016-01/pageviews-20160101-060000.gz',\n",
       " u'https://dumps.wikimedia.org/other/pageviews/2016/2016-01/pageviews-20160101-070000.gz',\n",
       " u'https://dumps.wikimedia.org/other/pageviews/2016/2016-01/pageviews-20160101-080000.gz',\n",
       " u'https://dumps.wikimedia.org/other/pageviews/2016/2016-01/pageviews-20160101-090000.gz',\n",
       " u'https://dumps.wikimedia.org/other/pageviews/2016/2016-01/pageviews-20160101-100000.gz',\n",
       " u'https://dumps.wikimedia.org/other/pageviews/2016/2016-01/pageviews-20160101-110000.gz',\n",
       " u'https://dumps.wikimedia.org/other/pageviews/2016/2016-01/pageviews-20160101-120000.gz',\n",
       " u'https://dumps.wikimedia.org/other/pageviews/2016/2016-01/pageviews-20160101-130000.gz',\n",
       " u'https://dumps.wikimedia.org/other/pageviews/2016/2016-01/pageviews-20160101-140000.gz',\n",
       " u'https://dumps.wikimedia.org/other/pageviews/2016/2016-01/pageviews-20160101-150000.gz',\n",
       " u'https://dumps.wikimedia.org/other/pageviews/2016/2016-01/pageviews-20160101-160000.gz',\n",
       " u'https://dumps.wikimedia.org/other/pageviews/2016/2016-01/pageviews-20160101-170000.gz',\n",
       " u'https://dumps.wikimedia.org/other/pageviews/2016/2016-01/pageviews-20160101-180000.gz',\n",
       " u'https://dumps.wikimedia.org/other/pageviews/2016/2016-01/pageviews-20160101-190000.gz',\n",
       " u'https://dumps.wikimedia.org/other/pageviews/2016/2016-01/pageviews-20160101-200000.gz',\n",
       " u'https://dumps.wikimedia.org/other/pageviews/2016/2016-01/pageviews-20160101-210000.gz',\n",
       " u'https://dumps.wikimedia.org/other/pageviews/2016/2016-01/pageviews-20160101-220000.gz',\n",
       " u'https://dumps.wikimedia.org/other/pageviews/2016/2016-01/pageviews-20160101-230000.gz']"
      ]
     },
     "execution_count": 11,
     "metadata": {},
     "output_type": "execute_result"
    }
   ],
   "source": [
    "all_pageviews"
   ]
  },
  {
   "cell_type": "code",
   "execution_count": 10,
   "metadata": {
    "collapsed": false
   },
   "outputs": [
    {
     "name": "stderr",
     "output_type": "stream",
     "text": [
      "/Users/juliet/.virtualenvs/pyhadoop/lib/python2.7/site-packages/requests/packages/urllib3/util/ssl_.py:122: InsecurePlatformWarning: A true SSLContext object is not available. This prevents urllib3 from configuring SSL appropriately and may cause certain SSL connections to fail. You can upgrade to a newer version of Python to solve this. For more information, see https://urllib3.readthedocs.io/en/latest/security.html#insecureplatformwarning.\n",
      "  InsecurePlatformWarning\n",
      "/Users/juliet/.virtualenvs/pyhadoop/lib/python2.7/site-packages/requests/packages/urllib3/util/ssl_.py:122: InsecurePlatformWarning: A true SSLContext object is not available. This prevents urllib3 from configuring SSL appropriately and may cause certain SSL connections to fail. You can upgrade to a newer version of Python to solve this. For more information, see https://urllib3.readthedocs.io/en/latest/security.html#insecureplatformwarning.\n",
      "  InsecurePlatformWarning\n"
     ]
    }
   ],
   "source": [
    "all_pageviews = [n for n in get_pageviews('2016', '01', '01')]\n",
    "write_file(all_pageviews[0])"
   ]
  },
  {
   "cell_type": "code",
   "execution_count": 58,
   "metadata": {
    "collapsed": false
   },
   "outputs": [
    {
     "name": "stderr",
     "output_type": "stream",
     "text": [
      "/Users/juliet/.virtualenvs/pyhadoop/lib/python2.7/site-packages/requests/packages/urllib3/util/ssl_.py:122: InsecurePlatformWarning: A true SSLContext object is not available. This prevents urllib3 from configuring SSL appropriately and may cause certain SSL connections to fail. You can upgrade to a newer version of Python to solve this. For more information, see https://urllib3.readthedocs.io/en/latest/security.html#insecureplatformwarning.\n",
      "  InsecurePlatformWarning\n"
     ]
    }
   ],
   "source": [
    "req = requests.request(\"GET\", all_pageviews[0], stream=True)"
   ]
  },
  {
   "cell_type": "code",
   "execution_count": null,
   "metadata": {
    "collapsed": true
   },
   "outputs": [],
   "source": []
  }
 ],
 "metadata": {
  "kernelspec": {
   "display_name": "Python 2",
   "language": "python",
   "name": "python2"
  },
  "language_info": {
   "codemirror_mode": {
    "name": "ipython",
    "version": 2
   },
   "file_extension": ".py",
   "mimetype": "text/x-python",
   "name": "python",
   "nbconvert_exporter": "python",
   "pygments_lexer": "ipython2",
   "version": "2.7.5"
  }
 },
 "nbformat": 4,
 "nbformat_minor": 1
}
