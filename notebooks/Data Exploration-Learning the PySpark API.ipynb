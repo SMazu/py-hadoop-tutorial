{
 "cells": [
  {
   "cell_type": "code",
   "execution_count": 4,
   "metadata": {
    "collapsed": false
   },
   "outputs": [],
   "source": [
    "from pyspark import SparkContext\n",
    "from pyspark.sql import SQLContext"
   ]
  },
  {
   "cell_type": "markdown",
   "metadata": {},
   "source": [
    "Manually managing spark context and sqlcontexts has been replaced the Spark sessions, which come with convenient builders. We may want to modify the following config variables:\n",
    "\n",
    "    spark.sql.hive.metastore.version\n",
    "    spark.sql.hive.metastore.jars"
   ]
  },
  {
   "cell_type": "code",
   "execution_count": null,
   "metadata": {
    "collapsed": false
   },
   "outputs": [],
   "source": [
    "sc = SparkContext(appName='Notebook')\n",
    "sqlContext = SQLContext(sc)"
   ]
  },
  {
   "cell_type": "code",
   "execution_count": null,
   "metadata": {
    "collapsed": false
   },
   "outputs": [],
   "source": [
    "pageviews_tbl = sqlContext.sql(\"SELECT * FROM u_juliet.wiki_pageviews\").cache()\n",
    "project_names = pageviews_tbl.select(\"project_name\").distinct().collect()\n",
    "project_names"
   ]
  },
  {
   "cell_type": "code",
   "execution_count": null,
   "metadata": {
    "collapsed": true
   },
   "outputs": [],
   "source": [
    "project_page_counts = pageviews_tbl.select(\"project_name\").groupBy(\"project_name\").count().orderBy(\"count\",\n",
    "ascending=False).collect()\n",
    "project_page_counts"
   ]
  },
  {
   "cell_type": "code",
   "execution_count": null,
   "metadata": {
    "collapsed": false
   },
   "outputs": [],
   "source": [
    "[name for name in project_names if 'en' in name]"
   ]
  },
  {
   "cell_type": "code",
   "execution_count": null,
   "metadata": {
    "collapsed": false
   },
   "outputs": [],
   "source": [
    "pageviews_tbl.filter(\"project_name = 'en'\").show(10)"
   ]
  },
  {
   "cell_type": "code",
   "execution_count": null,
   "metadata": {
    "collapsed": false
   },
   "outputs": [],
   "source": [
    "en_pageviews = pageviews_tbl.filter(\"project_name= 'en'\").drop(\"project_name\")\n",
    "en_pageviews.show(10)"
   ]
  },
  {
   "cell_type": "code",
   "execution_count": null,
   "metadata": {
    "collapsed": false
   },
   "outputs": [],
   "source": [
    "top_10_pg_views_hourly = en_pageviews.orderBy(\"n_views\", ascending=False)\n",
    "top_10_pg_views_hourly.show(10)"
   ]
  },
  {
   "cell_type": "code",
   "execution_count": null,
   "metadata": {
    "collapsed": false
   },
   "outputs": [],
   "source": [
    "null_pg_views = en_pageviews.filter(\"n_views IS NULL\")\n",
    "null_pg_views.show()"
   ]
  },
  {
   "cell_type": "code",
   "execution_count": null,
   "metadata": {
    "collapsed": false
   },
   "outputs": [],
   "source": [
    "nn_pg_views = en_pageviews.filter(\"n_views IS NOT NULL\")\n",
    "nn_pg_views.orderBy(\"n_views\", ascending=False).show(10)"
   ]
  },
  {
   "cell_type": "code",
   "execution_count": null,
   "metadata": {
    "collapsed": false
   },
   "outputs": [],
   "source": [
    "champagne_df = nn_pg_views.filter(\"LOWER(page_name) = 'champagne'\")\n",
    "champagne_df.orderBy(\"day\", \"hour\").show(10)"
   ]
  },
  {
   "cell_type": "code",
   "execution_count": null,
   "metadata": {
    "collapsed": false
   },
   "outputs": [],
   "source": [
    "w_daily_views = nn_pg_views.groupBy(\"page_name\", \"month\",\n",
    "\"day\").sum(\"n_views\").withColumnRenamed(\"sum(n_views)\",\n",
    "\"daily_views\").orderBy(\"daily_views\", ascending=False)\n",
    "w_daily_views.show(10)"
   ]
  },
  {
   "cell_type": "code",
   "execution_count": null,
   "metadata": {
    "collapsed": false
   },
   "outputs": [],
   "source": [
    "tot_view = nn_pg_views.groupBy(\"page_name\").sum(\"n_views\").withColumnRenamed(\"sum(n_views)\",\n",
    "\"all_views\").orderBy(\"all_views\", ascending=False)\n",
    "tot_view.show(30)"
   ]
  },
  {
   "cell_type": "code",
   "execution_count": null,
   "metadata": {
    "collapsed": true
   },
   "outputs": [],
   "source": []
  }
 ],
 "metadata": {
  "anaconda-cloud": {},
  "kernelspec": {
   "display_name": "Python 3",
   "language": "python",
   "name": "python3"
  },
  "language_info": {
   "codemirror_mode": {
    "name": "ipython",
    "version": 3
   },
   "file_extension": ".py",
   "mimetype": "text/x-python",
   "name": "python",
   "nbconvert_exporter": "python",
   "pygments_lexer": "ipython3",
   "version": "3.5.2"
  }
 },
 "nbformat": 4,
 "nbformat_minor": 1
}
