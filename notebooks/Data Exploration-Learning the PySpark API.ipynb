{
 "cells": [
  {
   "cell_type": "markdown",
   "metadata": {},
   "source": [
    "# This is XXXXXXXXXXXXXXX's notebook."
   ]
  },
  {
   "cell_type": "markdown",
   "metadata": {},
   "source": [
    "# Now again, but with PySpark\n",
    "\n",
    "## Launching the Notebook\n",
    "\n",
    "Generally, we need to import SparkContext and instantiate one. Because we launched this notebook with the env variable SPARK_DRIVER_PYTHON=ipython, we magically have an instantiated spark context available to us already.\n",
    "\n",
    "The full launch scirpt for the Jupyter notebook servers you are using is:\n",
    "    #!/bin/bash\n",
    "    \n",
    "    export PYSPARK_DRIVER_PYTHON=ipython\n",
    "    export PYSPARK_DRIVER_PYTHON_OPTS=\"notebook --NotebookApp.ip='*'\n",
    "    --NotebookApp.open_browser=False --NotebookApp.port=8880\"\n",
    "\n",
    "    export HADOOP_CONF_DIR=/etc/hive/conf\n",
    "    export HIVE_CP=/opt/cloudera/parcels/CDH/lib/hive/lib/\n",
    "\n",
    "    pyspark --master yarn --deploy-mode client --driver-memory 2g \\\n",
    "    --num-executors 1 --executor-memory 8g --executor-cores 3"
   ]
  },
  {
   "cell_type": "code",
   "execution_count": null,
   "metadata": {
    "collapsed": false
   },
   "outputs": [],
   "source": [
    "from pyspark.sql import HiveContext"
   ]
  },
  {
   "cell_type": "markdown",
   "metadata": {},
   "source": [
    "Using a HiveContext allows us to easily interact with the Hive Metastore"
   ]
  },
  {
   "cell_type": "code",
   "execution_count": null,
   "metadata": {
    "collapsed": false
   },
   "outputs": [],
   "source": [
    "sqlContext = HiveContext(sc)"
   ]
  },
  {
   "cell_type": "code",
   "execution_count": null,
   "metadata": {
    "collapsed": false
   },
   "outputs": [],
   "source": [
    "pageviews_tbl = sqlContext.sql(\"SELECT * FROM u_srowen.sm_sample\").cache()\n",
    "project_names = pageviews_tbl.select(\"project_name\").distinct().collect()\n",
    "project_names"
   ]
  },
  {
   "cell_type": "code",
   "execution_count": null,
   "metadata": {
    "collapsed": true
   },
   "outputs": [],
   "source": [
    "project_page_counts = pageviews_tbl.select(\"project_name\").groupBy(\"project_name\").count().orderBy(\"count\",\n",
    "ascending=False).collect()\n",
    "project_page_counts"
   ]
  },
  {
   "cell_type": "code",
   "execution_count": null,
   "metadata": {
    "collapsed": false
   },
   "outputs": [],
   "source": [
    "[name for name in project_names if 'en' in name]"
   ]
  },
  {
   "cell_type": "code",
   "execution_count": null,
   "metadata": {
    "collapsed": false
   },
   "outputs": [],
   "source": [
    "pageviews_tbl.filter(\"project_name = 'en'\").show(10)"
   ]
  },
  {
   "cell_type": "code",
   "execution_count": null,
   "metadata": {
    "collapsed": false
   },
   "outputs": [],
   "source": [
    "en_pageviews = pageviews_tbl.filter(\"project_name= 'en'\").drop(\"project_name\")\n",
    "en_pageviews.show(10)"
   ]
  },
  {
   "cell_type": "code",
   "execution_count": null,
   "metadata": {
    "collapsed": false
   },
   "outputs": [],
   "source": [
    "top_10_pg_views_hourly = en_pageviews.orderBy(\"n_views\", ascending=False)\n",
    "top_10_pg_views_hourly.show(10)"
   ]
  },
  {
   "cell_type": "code",
   "execution_count": null,
   "metadata": {
    "collapsed": false
   },
   "outputs": [],
   "source": [
    "null_pg_views = en_pageviews.filter(\"n_views IS NULL\")\n",
    "null_pg_views.show()"
   ]
  },
  {
   "cell_type": "code",
   "execution_count": null,
   "metadata": {
    "collapsed": false
   },
   "outputs": [],
   "source": [
    "nn_pg_views = en_pageviews.filter(\"n_views IS NOT NULL\")\n",
    "nn_pg_views.orderBy(\"n_views\", ascending=False).show(10)"
   ]
  },
  {
   "cell_type": "code",
   "execution_count": null,
   "metadata": {
    "collapsed": false
   },
   "outputs": [],
   "source": [
    "champagne_df = nn_pg_views.filter(\"LOWER(page_name) = 'champagne'\")\n",
    "champagne_df.orderBy(\"day\", \"hour\").show(10)"
   ]
  },
  {
   "cell_type": "code",
   "execution_count": null,
   "metadata": {
    "collapsed": false
   },
   "outputs": [],
   "source": [
    "w_daily_views = nn_pg_views.groupBy(\"page_name\", \"month\",\n",
    "\"day\").sum(\"n_views\").withColumnRenamed(\"sum(n_views)\",\n",
    "\"daily_views\").orderBy(\"daily_views\", ascending=False)\n",
    "w_daily_views.show(10)"
   ]
  },
  {
   "cell_type": "code",
   "execution_count": null,
   "metadata": {
    "collapsed": false
   },
   "outputs": [],
   "source": [
    "tot_view = nn_pg_views.groupBy(\"page_name\").sum(\"n_views\").withColumnRenamed(\"sum(n_views)\",\n",
    "\"all_views\").orderBy(\"all_views\", ascending=False)\n",
    "tot_view.show(30)"
   ]
  },
  {
   "cell_type": "code",
   "execution_count": null,
   "metadata": {
    "collapsed": true
   },
   "outputs": [],
   "source": []
  }
 ],
 "metadata": {
  "anaconda-cloud": {},
  "kernelspec": {
   "display_name": "Python 2",
   "language": "python",
   "name": "python2"
  },
  "language_info": {
   "codemirror_mode": {
    "name": "ipython",
    "version": 2
   },
   "file_extension": ".py",
   "mimetype": "text/x-python",
   "name": "python",
   "nbconvert_exporter": "python",
   "pygments_lexer": "ipython2",
   "version": "2.7.5"
  }
 },
 "nbformat": 4,
 "nbformat_minor": 1
}
