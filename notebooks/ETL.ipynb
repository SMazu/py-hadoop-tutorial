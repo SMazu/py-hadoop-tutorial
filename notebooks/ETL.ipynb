{
 "cells": [
  {
   "cell_type": "code",
   "execution_count": null,
   "metadata": {
    "collapsed": false
   },
   "outputs": [],
   "source": [
    "import requests\n",
    "from bs4 import BeautifulSoup"
   ]
  },
  {
   "cell_type": "code",
   "execution_count": null,
   "metadata": {
    "collapsed": false
   },
   "outputs": [],
   "source": [
    "def get_pageviews(year, month, day):\n",
    "    pageviews_url = 'https://dumps.wikimedia.org/other/pageviews/{0}/{0}-{1}/'.format(year, month)\n",
    "    soup = BeautifulSoup(requests.get(pageviews_url).text)\n",
    "    for a in soup.find_all('a'):\n",
    "        if 'pageviews-{0}{1}{2}'.format(year, month, day) in a['href']:\n",
    "            yield pageviews_url + a['href']\n",
    "            \n",
    "def write_file(url):\n",
    "    req = requests.get(url, stream=True)\n",
    "    local_filename = url.split(\"/\")[-1]\n",
    "    with open('data/' + local_filename, 'wb') as f:\n",
    "        for chunk in req.iter_content(chunk_size=1024):\n",
    "            if chunk:\n",
    "                f.write(chunk)\n",
    "                f.flush()"
   ]
  },
  {
   "cell_type": "code",
   "execution_count": null,
   "metadata": {
    "collapsed": false
   },
   "outputs": [],
   "source": [
    "[write_file(url) for url in get_pageviews(year, month, day)]"
   ]
  },
  {
   "cell_type": "code",
   "execution_count": null,
   "metadata": {
    "collapsed": false
   },
   "outputs": [],
   "source": [
    "all_pageviews = [n for n in get_pageviews('2016', '01', '01')]\n",
    "write_file(all_pageviews[0])"
   ]
  },
  {
   "cell_type": "code",
   "execution_count": null,
   "metadata": {
    "collapsed": true
   },
   "outputs": [],
   "source": [
    "# System independent way to join paths\n",
    "LOCAL_DATA_PATH = os.path.join(os.getcwd(), \"pageviews-gz\")\n",
    "\n",
    "def mv_files(filename, hdfs_dir, hdfs_conn):\n",
    "    dir_name = hdfs_dir + filename[:-3]\n",
    "    hdfs_conn.mkdir(dir_name)\n",
    "    filepathtarget = '/'.join([dir_name, filename])\n",
    "    hdfs_conn.put(filepathtarget, os.path.join(LOCAL_DATA_PATH, filename))\n",
    "    return dir_name"
   ]
  },
  {
   "cell_type": "code",
   "execution_count": null,
   "metadata": {
    "collapsed": true
   },
   "outputs": [],
   "source": [
    "def extract_datetime(filename):\n",
    "    _, date_str, time_str = filename.split(\"-\")\n",
    "    year = date_str[:4]\n",
    "    month = date_str[4:6]\n",
    "    day = date_str[-2:]\n",
    "    hour = time_str[:2]\n",
    "    return year, month, day, hour"
   ]
  },
  {
   "cell_type": "code",
   "execution_count": null,
   "metadata": {
    "collapsed": true
   },
   "outputs": [],
   "source": [
    "def to_pd_dt(filename):\n",
    "    return pd.to_datetime(filename, format='pageviews-%Y%m%d-%H0000')"
   ]
  },
  {
   "cell_type": "code",
   "execution_count": null,
   "metadata": {
    "collapsed": true
   },
   "outputs": [],
   "source": [
    "FILE_SCHEMA = ibis.schema([('project_name', 'string'),\n",
    "                           ('page_name', 'string'),\n",
    "                           ('n_views', 'int64'),\n",
    "                           ('n_bytes', 'int64')])\n",
    "\n",
    "def gz_2_data_insert(data_dir, ibis_conn, db_name):\n",
    "    tmp_table = ibis_conn.delimited_file(hdfs_dir=data_dir,\n",
    "                                  schema=FILE_SCHEMA,\n",
    "                                  delimiter=' ')\n",
    "    year, month, day, hour = extract_datetime(data_dir.split(\"/\")[-1])\n",
    "    # create a column named time\n",
    "    tmp_w_time = tmp_table.mutate(year=year, month=month, day=day, hour=hour)\n",
    "\n",
    "    working_db = safe_get_db(ibis_conn, db_name)\n",
    "    if 'wiki_pageviews' in working_db.tables:\n",
    "        ibis_conn.insert('wiki_pageviews', tmp_w_time, database=db_name)\n",
    "    else:\n",
    "        ibis_conn.create_table('wiki_pageviews', obj=tmp_w_time,\n",
    "                               database=db_name)"
   ]
  },
  {
   "cell_type": "code",
   "execution_count": null,
   "metadata": {
    "collapsed": true
   },
   "outputs": [],
   "source": [
    "def safe_get_db(ibis_conn, db_name):\n",
    "    if not ibis_conn.exists_database(db_name):\n",
    "         ibis_conn.create_database(db_name)\n",
    "    return ibis_conn.database(db_name)"
   ]
  },
  {
   "cell_type": "code",
   "execution_count": null,
   "metadata": {
    "collapsed": true
   },
   "outputs": [],
   "source": [
    "LOCAL_FILES = os.listdir(LOCAL_DATA_PATH)\n",
    "\n",
    "hdfs_gz_dirs = [mv_files(filename, hdfs_dir, hdfs_conn) for filename in LOCAL_FILES]\n",
    "[gz_2_data_insert(data_dir, ibis_conn, db_name) for data_dir in hdfs_gz_dirs]"
   ]
  }
 ],
 "metadata": {
  "kernelspec": {
   "display_name": "Python 2",
   "language": "python",
   "name": "python2"
  },
  "language_info": {
   "codemirror_mode": {
    "name": "ipython",
    "version": 2
   },
   "file_extension": ".py",
   "mimetype": "text/x-python",
   "name": "python",
   "nbconvert_exporter": "python",
   "pygments_lexer": "ipython2",
   "version": "2.7.5"
  }
 },
 "nbformat": 4,
 "nbformat_minor": 1
}
