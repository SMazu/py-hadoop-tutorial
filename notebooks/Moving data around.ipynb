{
 "cells": [
  {
   "cell_type": "code",
   "execution_count": null,
   "metadata": {
    "collapsed": false
   },
   "outputs": [],
   "source": [
    "import ibis"
   ]
  },
  {
   "cell_type": "code",
   "execution_count": null,
   "metadata": {
    "collapsed": false
   },
   "outputs": [],
   "source": [
    "ibis.options.sql.default_limit = None\n",
    "\n",
    "hdfs_conn = ibis.hdfs_connect(host='bottou03.sjc.cloudera.com')\n",
    "\n",
    "ibis_conn = ibis.impala.connect(host='bottou01.sjc.cloudera.com',\n",
    "                                    port=21050,\n",
    "                                    hdfs_client=hdfs_conn)"
   ]
  },
  {
   "cell_type": "code",
   "execution_count": null,
   "metadata": {
    "collapsed": true
   },
   "outputs": [],
   "source": [
    "ibis_conn.drop_table('wiki_pageviews', database='u_juliet')"
   ]
  },
  {
   "cell_type": "code",
   "execution_count": null,
   "metadata": {
    "collapsed": false
   },
   "outputs": [],
   "source": [
    "hdfs_data_path = '/user/juliet'\n",
    "hdfs_conn.mkdir(hdfs_data_path)"
   ]
  },
  {
   "cell_type": "code",
   "execution_count": null,
   "metadata": {
    "collapsed": false
   },
   "outputs": [],
   "source": [
    "hdfs_conn.ls('/user/juliet')"
   ]
  },
  {
   "cell_type": "code",
   "execution_count": null,
   "metadata": {
    "collapsed": false
   },
   "outputs": [],
   "source": [
    "import os\n",
    "# System indepedent way to join paths\n",
    "local_data_path = os.path.join(os.getcwd(), \"pageviews-gz\")"
   ]
  },
  {
   "cell_type": "code",
   "execution_count": null,
   "metadata": {
    "collapsed": false
   },
   "outputs": [],
   "source": [
    "filenames = os.listdir(local_data_path)\n",
    "filenames[3][:-3]"
   ]
  },
  {
   "cell_type": "markdown",
   "metadata": {},
   "source": [
    "must put each file in its own dir because we need info from file name, using impala."
   ]
  },
  {
   "cell_type": "code",
   "execution_count": null,
   "metadata": {
    "collapsed": false,
    "scrolled": true
   },
   "outputs": [],
   "source": [
    "hdfs_conn.mkdir('/user/juliet/pageviews-gz')\n",
    "def mv_files(filename):\n",
    "    dir_name = '/user/juliet/pageviews-gz/{}'.format(filename[:-3])\n",
    "    hdfs_conn.mkdir(dir_name)\n",
    "    filepathtarget='/'.join([dir_name, filename])\n",
    "    hdfs_conn.put(filepathtarget, os.path.join(local_data_path, filename))\n",
    "    return dir_name\n",
    "    \n",
    "hdfs_gz_dirs = [mv_files(filename) for filename in filenames]"
   ]
  },
  {
   "cell_type": "code",
   "execution_count": null,
   "metadata": {
    "collapsed": false
   },
   "outputs": [],
   "source": [
    "hdfs_gz_dirs = hdfs_conn.ls('/user/juliet/pageviews-gz/')"
   ]
  },
  {
   "cell_type": "code",
   "execution_count": null,
   "metadata": {
    "collapsed": false
   },
   "outputs": [],
   "source": [
    "hdfs_conn.ls('/user/juliet')"
   ]
  },
  {
   "cell_type": "code",
   "execution_count": null,
   "metadata": {
    "collapsed": false
   },
   "outputs": [],
   "source": [
    "hdfs_gz_dirs = [ '/user/juliet/pageviews-gz/' + filename for filename in hdfs_conn.ls('/user/juliet/pageviews-gz')]\n",
    "hdfs_gz_dirs"
   ]
  },
  {
   "cell_type": "code",
   "execution_count": null,
   "metadata": {
    "collapsed": true
   },
   "outputs": [],
   "source": [
    "import pandas as pd\n",
    "\n",
    "def extract_datetime(filename):\n",
    "    _, date_str, time_str = filename.split(\"-\")\n",
    "    year = date_str[:4]\n",
    "    month = date_str[4:6]\n",
    "    day = date_str[-2:]\n",
    "    hour = time_str[:2]\n",
    "    return year, month, day, hour\n",
    "\n",
    "def to_pd_dt(filename):\n",
    "    return pd.to_datetime(filename, format='pageviews-%Y%m%d-%H0000')"
   ]
  },
  {
   "cell_type": "code",
   "execution_count": null,
   "metadata": {
    "collapsed": false
   },
   "outputs": [],
   "source": [
    "# quick check that this does the right thing\n",
    "extract_datetime('pageviews-20160102-030000.gz')\n",
    "to_pd_dt('pageviews-20160102-030000')"
   ]
  },
  {
   "cell_type": "markdown",
   "metadata": {},
   "source": [
    "Each file actually has important information about itself in its title. We need to decompressed each file (because gzip is not splittable and we could do better with compression codecs), read each into a dataset, concatenate all the datasets, write out the output in a better format. (Ie parquet with LZO compression)\n",
    "\n",
    "We could do this with spark or impala. Spark writes parquiet files without row groups (perhaps not strictly incorrect, but impala does not handle this well) For best mutual compatibility we should write out our parquet file with Impala, not Spark."
   ]
  },
  {
   "cell_type": "markdown",
   "metadata": {},
   "source": [
    "# Making a better file\n",
    "## Create Impala Table"
   ]
  },
  {
   "cell_type": "code",
   "execution_count": null,
   "metadata": {
    "collapsed": false
   },
   "outputs": [],
   "source": [
    "ibis_conn.create_database('u_juliet')"
   ]
  },
  {
   "cell_type": "code",
   "execution_count": null,
   "metadata": {
    "collapsed": false,
    "scrolled": true
   },
   "outputs": [],
   "source": [
    "file_schema = ibis.schema([('project_name', 'string'),\n",
    "                           ('page_name', 'string'),\n",
    "                           ('n_views', 'int64'),\n",
    "                           ('n_bytes', 'int64')])"
   ]
  },
  {
   "cell_type": "code",
   "execution_count": null,
   "metadata": {
    "collapsed": false
   },
   "outputs": [],
   "source": [
    "pageviews_tbl = ibis_conn.table('wiki_pageviews', database='u_juliet')"
   ]
  },
  {
   "cell_type": "code",
   "execution_count": null,
   "metadata": {
    "collapsed": false
   },
   "outputs": [],
   "source": [
    "ibis_conn.execute(pageviews_tbl.count())"
   ]
  },
  {
   "cell_type": "code",
   "execution_count": null,
   "metadata": {
    "collapsed": false
   },
   "outputs": [],
   "source": [
    "u_juliet_db = ibis_conn.database('u_juliet')\n",
    "u_juliet_db.tables"
   ]
  },
  {
   "cell_type": "code",
   "execution_count": null,
   "metadata": {
    "collapsed": false
   },
   "outputs": [],
   "source": [
    "ibis_conn.execute(pageviews_tbl.project_name.distinct())"
   ]
  },
  {
   "cell_type": "code",
   "execution_count": null,
   "metadata": {
    "collapsed": false
   },
   "outputs": [],
   "source": [
    "ibis_conn.execute(pageviews_tbl.limit(10))"
   ]
  },
  {
   "cell_type": "code",
   "execution_count": null,
   "metadata": {
    "collapsed": false,
    "scrolled": true
   },
   "outputs": [],
   "source": [
    "def gz_2_data_insert(data_dir, db_expr):\n",
    "    tmp_table = ibis_conn.delimited_file(hdfs_dir=data_dir,\n",
    "                                  schema=file_schema,\n",
    "                                  delimiter=' ')\n",
    "    year, month, day, hour = extract_datetime(data_dir.split(\"/\")[-1])\n",
    "    # create a column named time\n",
    "    tmp_w_time = tmp_table.mutate(year=year, month=month, day=day, hour=hour)\n",
    "    if 'wiki_pageviews' in db_expr.tables:\n",
    "        ibis_conn.insert('wiki_pageviews', tmp_w_time, database='u_juliet')\n",
    "    else:\n",
    "        ibis_conn.create_table('wiki_pageviews', obj=tmp_w_time, database='u_juliet')\n",
    "\n",
    "[gz_2_data_insert(data_dir, u_juliet_db) for data_dir in hdfs_gz_dirs]"
   ]
  },
  {
   "cell_type": "code",
   "execution_count": null,
   "metadata": {
    "collapsed": false
   },
   "outputs": [],
   "source": [
    "u_juliet_db.tables"
   ]
  },
  {
   "cell_type": "code",
   "execution_count": null,
   "metadata": {
    "collapsed": false
   },
   "outputs": [],
   "source": [
    "pageviews_tbl = ibis_conn.table('wiki_pageviews', database='u_juliet')"
   ]
  },
  {
   "cell_type": "code",
   "execution_count": null,
   "metadata": {
    "collapsed": false
   },
   "outputs": [],
   "source": [
    "[str(n).zfill(2) for n in range(1, 31)]"
   ]
  },
  {
   "cell_type": "code",
   "execution_count": null,
   "metadata": {
    "collapsed": true
   },
   "outputs": [],
   "source": []
  }
 ],
 "metadata": {
  "kernelspec": {
   "display_name": "Python 2",
   "language": "python",
   "name": "python2"
  },
  "language_info": {
   "codemirror_mode": {
    "name": "ipython",
    "version": 2
   },
   "file_extension": ".py",
   "mimetype": "text/x-python",
   "name": "python",
   "nbconvert_exporter": "python",
   "pygments_lexer": "ipython2",
   "version": "2.7.5"
  }
 },
 "nbformat": 4,
 "nbformat_minor": 1
}
